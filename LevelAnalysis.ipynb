{
 "cells": [
  {
   "cell_type": "code",
   "execution_count": 81,
   "metadata": {},
   "outputs": [],
   "source": [
    "import pandas as pd \n",
    "import scipy.stats as stats\n",
    "import seaborn as sns\n",
    "import numpy as np\n",
    "import pingouin as pg\n",
    "import matplotlib.pyplot as plt\n",
    "import os\n",
    "import glob\n",
    "from scipy.signal import butter,filtfilt\n",
    "import scipy\n",
    "\n",
    "sns.set_theme(style=\"whitegrid\")"
   ]
  },
  {
   "cell_type": "markdown",
   "metadata": {},
   "source": [
    "# Combine single participant's level data"
   ]
  },
  {
   "cell_type": "code",
   "execution_count": 82,
   "metadata": {},
   "outputs": [
    {
     "data": {
      "text/html": [
       "<div>\n",
       "<style scoped>\n",
       "    .dataframe tbody tr th:only-of-type {\n",
       "        vertical-align: middle;\n",
       "    }\n",
       "\n",
       "    .dataframe tbody tr th {\n",
       "        vertical-align: top;\n",
       "    }\n",
       "\n",
       "    .dataframe thead th {\n",
       "        text-align: right;\n",
       "    }\n",
       "</style>\n",
       "<table border=\"1\" class=\"dataframe\">\n",
       "  <thead>\n",
       "    <tr style=\"text-align: right;\">\n",
       "      <th></th>\n",
       "      <th>Valence</th>\n",
       "      <th>Arousal</th>\n",
       "      <th>Expression</th>\n",
       "    </tr>\n",
       "  </thead>\n",
       "  <tbody>\n",
       "    <tr>\n",
       "      <th>0</th>\n",
       "      <td>-0.161933</td>\n",
       "      <td>0.152845</td>\n",
       "      <td>0</td>\n",
       "    </tr>\n",
       "    <tr>\n",
       "      <th>1</th>\n",
       "      <td>-0.144700</td>\n",
       "      <td>0.144948</td>\n",
       "      <td>0</td>\n",
       "    </tr>\n",
       "    <tr>\n",
       "      <th>2</th>\n",
       "      <td>-0.100124</td>\n",
       "      <td>0.143632</td>\n",
       "      <td>0</td>\n",
       "    </tr>\n",
       "    <tr>\n",
       "      <th>3</th>\n",
       "      <td>-0.152162</td>\n",
       "      <td>0.136086</td>\n",
       "      <td>0</td>\n",
       "    </tr>\n",
       "    <tr>\n",
       "      <th>4</th>\n",
       "      <td>-0.106743</td>\n",
       "      <td>0.146401</td>\n",
       "      <td>0</td>\n",
       "    </tr>\n",
       "    <tr>\n",
       "      <th>...</th>\n",
       "      <td>...</td>\n",
       "      <td>...</td>\n",
       "      <td>...</td>\n",
       "    </tr>\n",
       "    <tr>\n",
       "      <th>955</th>\n",
       "      <td>-0.234590</td>\n",
       "      <td>-0.006489</td>\n",
       "      <td>0</td>\n",
       "    </tr>\n",
       "    <tr>\n",
       "      <th>956</th>\n",
       "      <td>-0.178168</td>\n",
       "      <td>0.036802</td>\n",
       "      <td>0</td>\n",
       "    </tr>\n",
       "    <tr>\n",
       "      <th>957</th>\n",
       "      <td>-0.181725</td>\n",
       "      <td>0.003884</td>\n",
       "      <td>0</td>\n",
       "    </tr>\n",
       "    <tr>\n",
       "      <th>958</th>\n",
       "      <td>-0.190511</td>\n",
       "      <td>-0.040157</td>\n",
       "      <td>0</td>\n",
       "    </tr>\n",
       "    <tr>\n",
       "      <th>959</th>\n",
       "      <td>-0.208169</td>\n",
       "      <td>0.030494</td>\n",
       "      <td>0</td>\n",
       "    </tr>\n",
       "  </tbody>\n",
       "</table>\n",
       "<p>51486 rows × 3 columns</p>\n",
       "</div>"
      ],
      "text/plain": [
       "      Valence   Arousal  Expression\n",
       "0   -0.161933  0.152845           0\n",
       "1   -0.144700  0.144948           0\n",
       "2   -0.100124  0.143632           0\n",
       "3   -0.152162  0.136086           0\n",
       "4   -0.106743  0.146401           0\n",
       "..        ...       ...         ...\n",
       "955 -0.234590 -0.006489           0\n",
       "956 -0.178168  0.036802           0\n",
       "957 -0.181725  0.003884           0\n",
       "958 -0.190511 -0.040157           0\n",
       "959 -0.208169  0.030494           0\n",
       "\n",
       "[51486 rows x 3 columns]"
      ]
     },
     "execution_count": 82,
     "metadata": {},
     "output_type": "execute_result"
    }
   ],
   "source": [
    "p1 = pd.concat(map(pd.read_csv, glob.glob('Data/Participant1/*.csv')))\n",
    "p2 = pd.concat(map(pd.read_csv, glob.glob('Data/Participant2/*.csv')))\n",
    "p3 = pd.concat(map(pd.read_csv, glob.glob('Data/Participant3/*.csv')))\n",
    "p4 = pd.concat(map(pd.read_csv, glob.glob('Data/Participant4/*.csv')))\n",
    "p5 = pd.concat(map(pd.read_csv, glob.glob('Data/Participant5/*.csv')))\n",
    "p6 = pd.concat(map(pd.read_csv, glob.glob('Data/Participant6/*.csv')))\n",
    "p7 = pd.concat(map(pd.read_csv, glob.glob('Data/Participant7/*.csv')))\n",
    "p8 = pd.concat(map(pd.read_csv, glob.glob('Data/Participant8/*.csv')))\n",
    "p9 = pd.concat(map(pd.read_csv, glob.glob('Data/Participant9/*.csv')))\n",
    "p10 = pd.concat(map(pd.read_csv, glob.glob('Data/Participant10/*.csv')))\n",
    "p11 = pd.concat(map(pd.read_csv, glob.glob('Data/Participant11/*.csv')))\n",
    "p12 = pd.concat(map(pd.read_csv, glob.glob('Data/Participant12/*.csv')))\n",
    "p13 = pd.concat(map(pd.read_csv, glob.glob('Data/Participant13/*.csv')))\n",
    "\n",
    "p1"
   ]
  },
  {
   "cell_type": "markdown",
   "metadata": {},
   "source": [
    "# Extract single level data, taken from all participants"
   ]
  },
  {
   "cell_type": "code",
   "execution_count": 83,
   "metadata": {},
   "outputs": [
    {
     "name": "stdout",
     "output_type": "stream",
     "text": [
      "['Participant1', 'Participant10', 'Participant11', 'Participant12', 'Participant13', 'Participant2', 'Participant3', 'Participant4', 'Participant5', 'Participant6', 'Participant7', 'Participant8', 'Participant9']\n",
      "['Data/Participant1/Level02_images.csv', 'Data/Participant10/Level02_images.csv', 'Data/Participant11/Level02_images.csv', 'Data/Participant12/Level02_images.csv', 'Data/Participant13/Level02_images.csv', 'Data/Participant2/Level02_images.csv', 'Data/Participant3/Level02_images.csv', 'Data/Participant4/Level02_images.csv', 'Data/Participant5/Level02_images.csv', 'Data/Participant6/Level02_images.csv', 'Data/Participant7/Level02_images.csv', 'Data/Participant8/Level02_images.csv', 'Data/Participant9/Level02_images.csv']\n"
     ]
    }
   ],
   "source": [
    "filepath = 'Data/'\n",
    "fileL1 = 'Level01_images.csv'\n",
    "fileL2 = 'Level02_images.csv'\n",
    "fileL3 = 'Level03_images.csv'\n",
    "fileL4 = 'Level04_images.csv'\n",
    "fileL5 = 'Level05_images.csv'\n",
    "fileL6 = 'Level06_images.csv'\n",
    "fileL7 = 'Level07_images.csv'\n",
    "fileL8 = 'Level08_images.csv'\n",
    "fileL9 = 'Level09_images.csv'\n",
    "fileL10 = 'Level10_images.csv'\n",
    "fileL11 = 'Level11_images.csv'\n",
    "fileL12 = 'Level12_images.csv'\n",
    "fileL13 = 'Level13_images.csv'\n",
    "fileL14 = 'Level14_images.csv'\n",
    "fileL15 = 'Level15_images.csv'\n",
    "fileL16 = 'Level16_images.csv'\n",
    "fileL17 = 'Level17_images.csv'\n",
    "fileL18 = 'Level18_images.csv'\n",
    "fileL19 = 'Level9999_images.csv'\n",
    "\n",
    "#find folder of each participant\n",
    "participants = os.listdir('Data/') \n",
    "print(participants)\n",
    "\n",
    "#find a specific level file inside the participant folder\n",
    "files1 = []\n",
    "files2 = []\n",
    "files3 = []\n",
    "files4 = []\n",
    "files5 = []\n",
    "files6 = []\n",
    "files7 = []\n",
    "files8 = []\n",
    "files9 = []\n",
    "files10 = []\n",
    "files11 = []\n",
    "files12 = []\n",
    "files13 = []\n",
    "files14 = []\n",
    "files15 = []\n",
    "files16 = []\n",
    "files17 = []\n",
    "files18 = []\n",
    "files19 = []\n",
    "for p in participants:\n",
    "    files1.append(filepath+p+'/'+fileL1)\n",
    "    files2.append(filepath+p+'/'+fileL2)\n",
    "    files3.append(filepath+p+'/'+fileL3)\n",
    "    files4.append(filepath+p+'/'+fileL4)\n",
    "    files5.append(filepath+p+'/'+fileL5)\n",
    "    files6.append(filepath+p+'/'+fileL6)\n",
    "    files7.append(filepath+p+'/'+fileL7)\n",
    "    files8.append(filepath+p+'/'+fileL8)\n",
    "    files9.append(filepath+p+'/'+fileL9)\n",
    "    files10.append(filepath+p+'/'+fileL10)\n",
    "    files11.append(filepath+p+'/'+fileL11)\n",
    "    files12.append(filepath+p+'/'+fileL12)\n",
    "    files13.append(filepath+p+'/'+fileL13)\n",
    "    files14.append(filepath+p+'/'+fileL14)\n",
    "    files15.append(filepath+p+'/'+fileL15)\n",
    "    files16.append(filepath+p+'/'+fileL16)\n",
    "    files17.append(filepath+p+'/'+fileL17)\n",
    "    files18.append(filepath+p+'/'+fileL18)\n",
    "    files19.append(filepath+p+'/'+fileL19)\n",
    "print(files2)\n",
    "\n",
    "#combine different participant's same level data\n",
    "data1 = []\n",
    "data2 = []\n",
    "data3 = []\n",
    "data4 = []\n",
    "data5 = []\n",
    "data6 = []\n",
    "data7 = []\n",
    "data8 = []\n",
    "data9 = []\n",
    "data10 = []\n",
    "data11 = []\n",
    "data12 = []\n",
    "data13 = []\n",
    "data14 = []\n",
    "data15 = []\n",
    "data16 = []\n",
    "data17 = []\n",
    "data18 = []\n",
    "data19 = []\n",
    "\n",
    "for f in files1:\n",
    "    data1.append(pd.read_csv(f))\n",
    "\n",
    "for f in files2:\n",
    "    data2.append(pd.read_csv(f))\n",
    "\n",
    "for f in files3:\n",
    "    data3.append(pd.read_csv(f))\n",
    "\n",
    "for f in files4:\n",
    "    data4.append(pd.read_csv(f))\n",
    "\n",
    "for f in files5:\n",
    "    data5.append(pd.read_csv(f))\n",
    "\n",
    "for f in files6:\n",
    "    data6.append(pd.read_csv(f))\n",
    "\n",
    "for f in files7:\n",
    "    data7.append(pd.read_csv(f))\n",
    "\n",
    "for f in files8:\n",
    "    data8.append(pd.read_csv(f))\n",
    "\n",
    "for f in files9:\n",
    "    data9.append(pd.read_csv(f))\n",
    "\n",
    "for f in files10:\n",
    "    data10.append(pd.read_csv(f))\n",
    "\n",
    "for f in files11:\n",
    "    data11.append(pd.read_csv(f))\n",
    "\n",
    "for f in files12:\n",
    "    data12.append(pd.read_csv(f))\n",
    "\n",
    "for f in files13:\n",
    "    data13.append(pd.read_csv(f))\n",
    "\n",
    "for f in files14:\n",
    "    data14.append(pd.read_csv(f))\n",
    "\n",
    "for f in files15:\n",
    "    data15.append(pd.read_csv(f))\n",
    "\n",
    "for f in files16:\n",
    "    data16.append(pd.read_csv(f))\n",
    "    \n",
    "for f in files17:\n",
    "    data17.append(pd.read_csv(f))\n",
    "\n",
    "for f in files18:\n",
    "    data18.append(pd.read_csv(f))\n",
    "\n",
    "for f in files19:\n",
    "    data19.append(pd.read_csv(f))\n",
    "\n",
    "\n",
    "level1 = pd.concat((data1), ignore_index=True)\n",
    "level2 = pd.concat((data2), ignore_index=True)\n",
    "level3 = pd.concat((data3), ignore_index=True)\n",
    "level4 = pd.concat((data4), ignore_index=True)\n",
    "level5 = pd.concat((data5), ignore_index=True)\n",
    "level6 = pd.concat((data6), ignore_index=True)\n",
    "level7 = pd.concat((data7), ignore_index=True)\n",
    "level8 = pd.concat((data8), ignore_index=True)\n",
    "level9 = pd.concat((data9), ignore_index=True)\n",
    "level10 = pd.concat((data10), ignore_index=True)\n",
    "level11 = pd.concat((data11), ignore_index=True)\n",
    "level12 = pd.concat((data12), ignore_index=True)\n",
    "level13 = pd.concat((data13), ignore_index=True)\n",
    "level14 = pd.concat((data14), ignore_index=True)\n",
    "level15 = pd.concat((data15), ignore_index=True)\n",
    "level16 = pd.concat((data16), ignore_index=True)\n",
    "level17 = pd.concat((data17), ignore_index=True)\n",
    "level18 = pd.concat((data18), ignore_index=True)\n",
    "level19 = pd.concat((data19), ignore_index=True)"
   ]
  },
  {
   "cell_type": "code",
   "execution_count": 84,
   "metadata": {},
   "outputs": [
    {
     "data": {
      "text/plain": [
       "['conation.txt',\n",
       " 'Level01_images.csv',\n",
       " 'Level02_images.csv',\n",
       " 'Level03_images.csv',\n",
       " 'Level04_images.csv',\n",
       " 'Level05_images.csv',\n",
       " 'Level06_images.csv',\n",
       " 'Level07_images.csv',\n",
       " 'Level08_images.csv',\n",
       " 'Level09_images.csv',\n",
       " 'Level10_images.csv',\n",
       " 'Level11_images.csv',\n",
       " 'Level12_images.csv',\n",
       " 'Level13_images.csv',\n",
       " 'Level14_images.csv',\n",
       " 'Level15_images.csv',\n",
       " 'Level16_images.csv',\n",
       " 'Level17_images.csv',\n",
       " 'Level18_images.csv',\n",
       " 'Level9999_images.csv',\n",
       " 'whyConation.txt']"
      ]
     },
     "execution_count": 84,
     "metadata": {},
     "output_type": "execute_result"
    }
   ],
   "source": [
    "levels = os.listdir('Data/Participant1/')\n",
    "\n",
    "levels"
   ]
  },
  {
   "cell_type": "markdown",
   "metadata": {},
   "source": [
    "# Functions to add labels to graphs"
   ]
  },
  {
   "cell_type": "code",
   "execution_count": 85,
   "metadata": {},
   "outputs": [],
   "source": [
    "def add_value_labels(ax, spacing=5):\n",
    "    \"\"\"Add labels to the end of each bar in a bar chart.\n",
    "\n",
    "    Arguments:\n",
    "        ax (matplotlib.axes.Axes): The matplotlib object containing the axes\n",
    "            of the plot to annotate.\n",
    "        spacing (int): The distance between the labels and the bars.\n",
    "    \"\"\"\n",
    "\n",
    "    # For each bar: Place a label\n",
    "    for rect in ax.patches:\n",
    "        # Get X and Y placement of label from rect.\n",
    "        y_value = rect.get_height()\n",
    "        x_value = rect.get_x() + rect.get_width() / 2\n",
    "\n",
    "        # Number of points between bar and label. Change to your liking.\n",
    "        space = spacing\n",
    "        # Vertical alignment for positive values\n",
    "        va = 'bottom'\n",
    "\n",
    "        # If value of bar is negative: Place label below bar\n",
    "        if y_value < 0:\n",
    "            # Invert space to place label below\n",
    "            space *= -1\n",
    "            # Vertically align label at top\n",
    "            va = 'top'\n",
    "\n",
    "        # Use Y value as label and format number with 2 decimal places\n",
    "        label = \"{:.3f}\".format(y_value)\n",
    "\n",
    "        # Create annotation\n",
    "        ax.annotate(\n",
    "            label,                      # Use `label` as label\n",
    "            (x_value, y_value),         # Place label at end of the bar\n",
    "            xytext=(0, space),          # Vertically shift label by `space`\n",
    "            textcoords=\"offset points\", # Interpret `xytext` as offset in points\n",
    "            ha='center',                # Horizontally center label\n",
    "            va=va)                      # Vertically align label differently for\n",
    "                                        # positive and negative values."
   ]
  },
  {
   "cell_type": "code",
   "execution_count": 86,
   "metadata": {},
   "outputs": [],
   "source": [
    "def add_value_labels_int(ax, spacing=5):\n",
    "\n",
    "    # For each bar: Place a label\n",
    "    for rect in ax.patches:\n",
    "        # Get X and Y placement of label from rect.\n",
    "        y_value = rect.get_height()\n",
    "        x_value = rect.get_x() + rect.get_width() / 2\n",
    "\n",
    "        # Number of points between bar and label. Change to your liking.\n",
    "        space = spacing\n",
    "        # Vertical alignment for positive values\n",
    "        va = 'bottom'\n",
    "\n",
    "        # If value of bar is negative: Place label below bar\n",
    "        if y_value < 0:\n",
    "            # Invert space to place label below\n",
    "            space *= -1\n",
    "            # Vertically align label at top\n",
    "            va = 'top'\n",
    "\n",
    "        # Use Y value as label and format number with 2 decimal places\n",
    "        label = \"{:.0f}\".format(y_value)\n",
    "\n",
    "        # Create annotation\n",
    "        ax.annotate(\n",
    "            label,                      # Use `label` as label\n",
    "            (x_value, y_value),         # Place label at end of the bar\n",
    "            xytext=(0, space),          # Vertically shift label by `space`\n",
    "            textcoords=\"offset points\", # Interpret `xytext` as offset in points\n",
    "            ha='center',                # Horizontally center label\n",
    "            va=va)                      # Vertically align label differently for\n",
    "                                        # positive and negative values."
   ]
  },
  {
   "cell_type": "code",
   "execution_count": 87,
   "metadata": {},
   "outputs": [
    {
     "name": "stdout",
     "output_type": "stream",
     "text": [
      "0       -0.161933\n",
      "1       -0.144700\n",
      "2       -0.100124\n",
      "3       -0.152162\n",
      "4       -0.106743\n",
      "           ...   \n",
      "10645    0.046869\n",
      "10646   -0.009665\n",
      "10647   -0.026396\n",
      "10648    0.018554\n",
      "10649   -0.020623\n",
      "Name: Valence, Length: 10650, dtype: float64\n"
     ]
    }
   ],
   "source": [
    "print(level1.iloc[:, 0])"
   ]
  },
  {
   "cell_type": "markdown",
   "metadata": {},
   "source": [
    "## Plot Arousal + Valence means for each level"
   ]
  },
  {
   "cell_type": "code",
   "execution_count": 88,
   "metadata": {},
   "outputs": [
    {
     "data": {
      "image/png": "[encoded data removed]",
      "text/plain": [
       "<Figure size 1440x720 with 1 Axes>"
      ]
     },
     "metadata": {},
     "output_type": "display_data"
    }
   ],
   "source": [
    "avplot = pd.DataFrame([\n",
    "        [\"L1\", level1.iloc[:, 0].mean(), level1.iloc[:, 1].mean()],\n",
    "        [\"L2\", level2.iloc[:, 0].mean(), level2.iloc[:, 1].mean()],\n",
    "        [\"L3\", level3.iloc[:, 0].mean(), level3.iloc[:, 1].mean()],\n",
    "        [\"L4\", level4.iloc[:, 0].mean(), level4.iloc[:, 1].mean()],\n",
    "        [\"L5\", level5.iloc[:, 0].mean(), level5.iloc[:, 1].mean()],\n",
    "        [\"L6\", level6.iloc[:, 0].mean(), level6.iloc[:, 1].mean()],\n",
    "        [\"L7\", level7.iloc[:, 0].mean(), level7.iloc[:, 1].mean()],\n",
    "        [\"L8\", level8.iloc[:, 0].mean(), level8.iloc[:, 1].mean()],\n",
    "        [\"L9\", level9.iloc[:, 0].mean(), level9.iloc[:, 1].mean()],\n",
    "        [\"L10\", level10.iloc[:, 0].mean(), level10.iloc[:, 1].mean()],\n",
    "        [\"L11\", level11.iloc[:, 0].mean(), level11.iloc[:, 1].mean()],\n",
    "        [\"L12\", level12.iloc[:, 0].mean(), level12.iloc[:, 1].mean()],\n",
    "        [\"L13\", level13.iloc[:, 0].mean(), level13.iloc[:, 1].mean()],\n",
    "        [\"L14\", level14.iloc[:, 0].mean(), level14.iloc[:, 1].mean()],\n",
    "        [\"L15\", level15.iloc[:, 0].mean(), level15.iloc[:, 1].mean()],\n",
    "        [\"L16\", level16.iloc[:, 0].mean(), level16.iloc[:, 1].mean()],\n",
    "        [\"L17\", level17.iloc[:, 0].mean(), level17.iloc[:, 1].mean()],\n",
    "        [\"L18\", level18.iloc[:, 0].mean(), level18.iloc[:, 1].mean()],\n",
    "        [\"L19\", level19.iloc[:, 0].mean(), level19.iloc[:, 1].mean()],\n",
    "        ],  \n",
    "        columns = [\"Game Levels\", \"Valence\", \"Arousal\"])\n",
    "\n",
    "fig, ax1 = plt.subplots(figsize=(20, 10))\n",
    "tidy = avplot.melt(id_vars='Game Levels').rename(columns=str.title)\n",
    "sns.barplot(x='Game Levels', y='Value', hue='Variable', data=tidy, ax=ax1)\n",
    "sns.despine(fig)\n",
    "ax1.yaxis.grid(True)\n",
    "ax1.set_axisbelow(True)\n",
    "plt.ylim(bottom = -0.5,top = 0.5)\n",
    "add_value_labels(ax1)"
   ]
  },
  {
   "cell_type": "markdown",
   "metadata": {},
   "source": [
    "## Find Arousal + Valence means combined of each participant"
   ]
  },
  {
   "cell_type": "code",
   "execution_count": 124,
   "metadata": {},
   "outputs": [],
   "source": [
    "participantAV = pd.concat([p1.iloc[:, 0:2], p2.iloc[:, 0:2], p3.iloc[:, 0:2], p4.iloc[:, 0:2], p5.iloc[:, 0:2],\n",
    "                          p6.iloc[:, 0:2], p7.iloc[:, 0:2], p8.iloc[:,0:2], p9.iloc[:, 0:2], p10.iloc[:, 0:2],\n",
    "                          p11.iloc[:, 0:2], p12.iloc[:, 0:2], p13.iloc[:, 0:2]],\n",
    "                         axis=0, ignore_index=True)\n",
    "\n",
    "\n",
    "participantValenceScore = participantAV.Valence.mean()\n",
    "participantArousalScore = participantAV.Arousal.mean()"
   ]
  },
  {
   "cell_type": "code",
   "execution_count": 129,
   "metadata": {},
   "outputs": [
    {
     "data": {
      "text/html": [
       "<div>\n",
       "<style scoped>\n",
       "    .dataframe tbody tr th:only-of-type {\n",
       "        vertical-align: middle;\n",
       "    }\n",
       "\n",
       "    .dataframe tbody tr th {\n",
       "        vertical-align: top;\n",
       "    }\n",
       "\n",
       "    .dataframe thead th {\n",
       "        text-align: right;\n",
       "    }\n",
       "</style>\n",
       "<table border=\"1\" class=\"dataframe\">\n",
       "  <thead>\n",
       "    <tr style=\"text-align: right;\">\n",
       "      <th></th>\n",
       "      <th>Mean Arousal</th>\n",
       "      <th>Mean Valence</th>\n",
       "    </tr>\n",
       "  </thead>\n",
       "  <tbody>\n",
       "    <tr>\n",
       "      <th>0</th>\n",
       "      <td>0.108657</td>\n",
       "      <td>-0.251786</td>\n",
       "    </tr>\n",
       "  </tbody>\n",
       "</table>\n",
       "</div>"
      ],
      "text/plain": [
       "   Mean Arousal  Mean Valence\n",
       "0      0.108657     -0.251786"
      ]
     },
     "execution_count": 129,
     "metadata": {},
     "output_type": "execute_result"
    }
   ],
   "source": [
    "participantAVmean = pd.DataFrame([participantArousalScore, participantValenceScore]).T\n",
    "participantAVmean.columns = [\"Average Arousal\", \"Average Valence\"]\n",
    "\n",
    "participantAVmean"
   ]
  },
  {
   "cell_type": "code",
   "execution_count": 130,
   "metadata": {},
   "outputs": [
    {
     "data": {
      "image/png": "[encoded data removed]",
      "text/plain": [
       "<Figure size 432x288 with 1 Axes>"
      ]
     },
     "metadata": {},
     "output_type": "display_data"
    }
   ],
   "source": [
    "ax = sns.barplot(data=participantAVmean)\n",
    "ax.set(ylabel='value', title='Arousal and valence averages of all participants')\n",
    "ax.set(ylim=(-1, 1))\n",
    "add_value_labels(ax)"
   ]
  },
  {
   "cell_type": "code",
   "execution_count": 131,
   "metadata": {},
   "outputs": [
    {
     "name": "stdout",
     "output_type": "stream",
     "text": [
      "Arousal Mean: 0.10865735851621663\n",
      "Arousal STD: 0.13375138309926535\n",
      "Valence Mean: -0.2517864911302583\n",
      "Valence STD: 0.16916284382365637\n"
     ]
    }
   ],
   "source": [
    "print(\"Arousal Mean: \" + str(participantAV.Arousal.mean()))\n",
    "print(\"Arousal STD: \" + str(participantAV.Arousal.std()))\n",
    "\n",
    "print(\"Valence Mean: \" + str(participantAV.Valence.mean()))\n",
    "print(\"Valence STD: \" + str(participantAV.Valence.std()))"
   ]
  },
  {
   "cell_type": "markdown",
   "metadata": {},
   "source": [
    "## Valence and arousal values of a single participant"
   ]
  },
  {
   "cell_type": "code",
   "execution_count": 89,
   "metadata": {},
   "outputs": [],
   "source": [
    "av1 = p1.iloc[:, 0:2]\n",
    "av2 = p2.iloc[:, 0:2]\n",
    "av3 = p3.iloc[:, 0:2]\n",
    "av4 = p4.iloc[:, 0:2]\n",
    "av5 = p5.iloc[:, 0:2]\n",
    "av6 = p6.iloc[:, 0:2]\n",
    "av7 = p7.iloc[:, 0:2]\n",
    "av8 = p8.iloc[:, 0:2]\n",
    "av9 = p9.iloc[:, 0:2]\n",
    "av10 = p10.iloc[:, 0:2]\n",
    "av11 = p11.iloc[:, 0:2]\n",
    "av12 = p12.iloc[:, 0:2]\n",
    "av13 = p13.iloc[:, 0:2]"
   ]
  },
  {
   "cell_type": "code",
   "execution_count": 94,
   "metadata": {},
   "outputs": [
    {
     "ename": "KeyboardInterrupt",
     "evalue": "",
     "output_type": "error",
     "traceback": [
      "\u001b[1;31m---------------------------------------------------------------------------\u001b[0m",
      "\u001b[1;31mKeyboardInterrupt\u001b[0m                         Traceback (most recent call last)",
      "\u001b[1;32mC:\\Users\\DOVIL~1\\AppData\\Local\\Temp/ipykernel_11636/3855092609.py\u001b[0m in \u001b[0;36m<module>\u001b[1;34m\u001b[0m\n\u001b[0;32m      1\u001b[0m \u001b[0mfig\u001b[0m\u001b[1;33m,\u001b[0m \u001b[0max\u001b[0m \u001b[1;33m=\u001b[0m \u001b[0mplt\u001b[0m\u001b[1;33m.\u001b[0m\u001b[0msubplots\u001b[0m\u001b[1;33m(\u001b[0m\u001b[0mfigsize\u001b[0m\u001b[1;33m=\u001b[0m\u001b[1;33m(\u001b[0m\u001b[1;36m20\u001b[0m\u001b[1;33m,\u001b[0m \u001b[1;36m5\u001b[0m\u001b[1;33m)\u001b[0m\u001b[1;33m)\u001b[0m\u001b[1;33m\u001b[0m\u001b[1;33m\u001b[0m\u001b[0m\n\u001b[0;32m      2\u001b[0m \u001b[1;33m\u001b[0m\u001b[0m\n\u001b[1;32m----> 3\u001b[1;33m \u001b[0max\u001b[0m \u001b[1;33m=\u001b[0m \u001b[0msns\u001b[0m\u001b[1;33m.\u001b[0m\u001b[0mlineplot\u001b[0m\u001b[1;33m(\u001b[0m\u001b[0mdata\u001b[0m\u001b[1;33m=\u001b[0m\u001b[0mav2\u001b[0m\u001b[1;33m)\u001b[0m\u001b[1;33m\u001b[0m\u001b[1;33m\u001b[0m\u001b[0m\n\u001b[0m\u001b[0;32m      4\u001b[0m \u001b[0max\u001b[0m\u001b[1;33m.\u001b[0m\u001b[0mset\u001b[0m\u001b[1;33m(\u001b[0m\u001b[0mxlabel\u001b[0m\u001b[1;33m=\u001b[0m\u001b[1;34m'some kind of x value'\u001b[0m\u001b[1;33m,\u001b[0m \u001b[0mylabel\u001b[0m\u001b[1;33m=\u001b[0m\u001b[1;34m'value'\u001b[0m\u001b[1;33m,\u001b[0m \u001b[0mtitle\u001b[0m\u001b[1;33m=\u001b[0m\u001b[1;34m'Valence and Arousal - Participant x'\u001b[0m\u001b[1;33m)\u001b[0m\u001b[1;33m\u001b[0m\u001b[1;33m\u001b[0m\u001b[0m\n\u001b[0;32m      5\u001b[0m \u001b[0max\u001b[0m\u001b[1;33m.\u001b[0m\u001b[0mset\u001b[0m\u001b[1;33m(\u001b[0m\u001b[0mylim\u001b[0m\u001b[1;33m=\u001b[0m\u001b[1;33m(\u001b[0m\u001b[1;33m-\u001b[0m\u001b[1;36m0.7\u001b[0m\u001b[1;33m,\u001b[0m \u001b[1;36m0.7\u001b[0m\u001b[1;33m)\u001b[0m\u001b[1;33m)\u001b[0m\u001b[1;33m\u001b[0m\u001b[1;33m\u001b[0m\u001b[0m\n",
      "\u001b[1;32mD:\\miniconda3\\lib\\site-packages\\seaborn\\_decorators.py\u001b[0m in \u001b[0;36minner_f\u001b[1;34m(*args, **kwargs)\u001b[0m\n\u001b[0;32m     44\u001b[0m             )\n\u001b[0;32m     45\u001b[0m         \u001b[0mkwargs\u001b[0m\u001b[1;33m.\u001b[0m\u001b[0mupdate\u001b[0m\u001b[1;33m(\u001b[0m\u001b[1;33m{\u001b[0m\u001b[0mk\u001b[0m\u001b[1;33m:\u001b[0m \u001b[0marg\u001b[0m \u001b[1;32mfor\u001b[0m \u001b[0mk\u001b[0m\u001b[1;33m,\u001b[0m \u001b[0marg\u001b[0m \u001b[1;32min\u001b[0m \u001b[0mzip\u001b[0m\u001b[1;33m(\u001b[0m\u001b[0msig\u001b[0m\u001b[1;33m.\u001b[0m\u001b[0mparameters\u001b[0m\u001b[1;33m,\u001b[0m \u001b[0margs\u001b[0m\u001b[1;33m)\u001b[0m\u001b[1;33m}\u001b[0m\u001b[1;33m)\u001b[0m\u001b[1;33m\u001b[0m\u001b[1;33m\u001b[0m\u001b[0m\n\u001b[1;32m---> 46\u001b[1;33m         \u001b[1;32mreturn\u001b[0m \u001b[0mf\u001b[0m\u001b[1;33m(\u001b[0m\u001b[1;33m**\u001b[0m\u001b[0mkwargs\u001b[0m\u001b[1;33m)\u001b[0m\u001b[1;33m\u001b[0m\u001b[1;33m\u001b[0m\u001b[0m\n\u001b[0m\u001b[0;32m     47\u001b[0m     \u001b[1;32mreturn\u001b[0m \u001b[0minner_f\u001b[0m\u001b[1;33m\u001b[0m\u001b[1;33m\u001b[0m\u001b[0m\n\u001b[0;32m     48\u001b[0m \u001b[1;33m\u001b[0m\u001b[0m\n",
      "\u001b[1;32mD:\\miniconda3\\lib\\site-packages\\seaborn\\relational.py\u001b[0m in \u001b[0;36mlineplot\u001b[1;34m(x, y, hue, size, style, data, palette, hue_order, hue_norm, sizes, size_order, size_norm, dashes, markers, style_order, units, estimator, ci, n_boot, seed, sort, err_style, err_kws, legend, ax, **kwargs)\u001b[0m\n\u001b[0;32m    708\u001b[0m     \u001b[0mp\u001b[0m\u001b[1;33m.\u001b[0m\u001b[0m_attach\u001b[0m\u001b[1;33m(\u001b[0m\u001b[0max\u001b[0m\u001b[1;33m)\u001b[0m\u001b[1;33m\u001b[0m\u001b[1;33m\u001b[0m\u001b[0m\n\u001b[0;32m    709\u001b[0m \u001b[1;33m\u001b[0m\u001b[0m\n\u001b[1;32m--> 710\u001b[1;33m     \u001b[0mp\u001b[0m\u001b[1;33m.\u001b[0m\u001b[0mplot\u001b[0m\u001b[1;33m(\u001b[0m\u001b[0max\u001b[0m\u001b[1;33m,\u001b[0m \u001b[0mkwargs\u001b[0m\u001b[1;33m)\u001b[0m\u001b[1;33m\u001b[0m\u001b[1;33m\u001b[0m\u001b[0m\n\u001b[0m\u001b[0;32m    711\u001b[0m     \u001b[1;32mreturn\u001b[0m \u001b[0max\u001b[0m\u001b[1;33m\u001b[0m\u001b[1;33m\u001b[0m\u001b[0m\n\u001b[0;32m    712\u001b[0m \u001b[1;33m\u001b[0m\u001b[0m\n",
      "\u001b[1;32mD:\\miniconda3\\lib\\site-packages\\seaborn\\relational.py\u001b[0m in \u001b[0;36mplot\u001b[1;34m(self, ax, kws)\u001b[0m\n\u001b[0;32m    497\u001b[0m                     \u001b[0merr\u001b[0m \u001b[1;33m=\u001b[0m \u001b[1;34m\"estimator must be None when specifying units\"\u001b[0m\u001b[1;33m\u001b[0m\u001b[1;33m\u001b[0m\u001b[0m\n\u001b[0;32m    498\u001b[0m                     \u001b[1;32mraise\u001b[0m \u001b[0mValueError\u001b[0m\u001b[1;33m(\u001b[0m\u001b[0merr\u001b[0m\u001b[1;33m)\u001b[0m\u001b[1;33m\u001b[0m\u001b[1;33m\u001b[0m\u001b[0m\n\u001b[1;32m--> 499\u001b[1;33m                 \u001b[0mx\u001b[0m\u001b[1;33m,\u001b[0m \u001b[0my\u001b[0m\u001b[1;33m,\u001b[0m \u001b[0my_ci\u001b[0m \u001b[1;33m=\u001b[0m \u001b[0mself\u001b[0m\u001b[1;33m.\u001b[0m\u001b[0maggregate\u001b[0m\u001b[1;33m(\u001b[0m\u001b[0my\u001b[0m\u001b[1;33m,\u001b[0m \u001b[0mx\u001b[0m\u001b[1;33m,\u001b[0m \u001b[0mu\u001b[0m\u001b[1;33m)\u001b[0m\u001b[1;33m\u001b[0m\u001b[1;33m\u001b[0m\u001b[0m\n\u001b[0m\u001b[0;32m    500\u001b[0m             \u001b[1;32melse\u001b[0m\u001b[1;33m:\u001b[0m\u001b[1;33m\u001b[0m\u001b[1;33m\u001b[0m\u001b[0m\n\u001b[0;32m    501\u001b[0m                 \u001b[0my_ci\u001b[0m \u001b[1;33m=\u001b[0m \u001b[1;32mNone\u001b[0m\u001b[1;33m\u001b[0m\u001b[1;33m\u001b[0m\u001b[0m\n",
      "\u001b[1;32mD:\\miniconda3\\lib\\site-packages\\seaborn\\relational.py\u001b[0m in \u001b[0;36maggregate\u001b[1;34m(self, vals, grouper, units)\u001b[0m\n\u001b[0;32m    412\u001b[0m                                columns=[\"low\", \"high\"]).stack()\n\u001b[0;32m    413\u001b[0m         \u001b[1;32melse\u001b[0m\u001b[1;33m:\u001b[0m\u001b[1;33m\u001b[0m\u001b[1;33m\u001b[0m\u001b[0m\n\u001b[1;32m--> 414\u001b[1;33m             \u001b[0mcis\u001b[0m \u001b[1;33m=\u001b[0m \u001b[0mgrouped\u001b[0m\u001b[1;33m.\u001b[0m\u001b[0mapply\u001b[0m\u001b[1;33m(\u001b[0m\u001b[0mbootstrapped_cis\u001b[0m\u001b[1;33m)\u001b[0m\u001b[1;33m\u001b[0m\u001b[1;33m\u001b[0m\u001b[0m\n\u001b[0m\u001b[0;32m    415\u001b[0m \u001b[1;33m\u001b[0m\u001b[0m\n\u001b[0;32m    416\u001b[0m         \u001b[1;31m# Unpack the CIs into \"wide\" format for plotting\u001b[0m\u001b[1;33m\u001b[0m\u001b[1;33m\u001b[0m\u001b[1;33m\u001b[0m\u001b[0m\n",
      "\u001b[1;32m~\\AppData\\Roaming\\Python\\Python38\\site-packages\\pandas\\core\\groupby\\generic.py\u001b[0m in \u001b[0;36mapply\u001b[1;34m(self, func, *args, **kwargs)\u001b[0m\n\u001b[0;32m    219\u001b[0m     )\n\u001b[0;32m    220\u001b[0m     \u001b[1;32mdef\u001b[0m \u001b[0mapply\u001b[0m\u001b[1;33m(\u001b[0m\u001b[0mself\u001b[0m\u001b[1;33m,\u001b[0m \u001b[0mfunc\u001b[0m\u001b[1;33m,\u001b[0m \u001b[1;33m*\u001b[0m\u001b[0margs\u001b[0m\u001b[1;33m,\u001b[0m \u001b[1;33m**\u001b[0m\u001b[0mkwargs\u001b[0m\u001b[1;33m)\u001b[0m\u001b[1;33m:\u001b[0m\u001b[1;33m\u001b[0m\u001b[1;33m\u001b[0m\u001b[0m\n\u001b[1;32m--> 221\u001b[1;33m         \u001b[1;32mreturn\u001b[0m \u001b[0msuper\u001b[0m\u001b[1;33m(\u001b[0m\u001b[1;33m)\u001b[0m\u001b[1;33m.\u001b[0m\u001b[0mapply\u001b[0m\u001b[1;33m(\u001b[0m\u001b[0mfunc\u001b[0m\u001b[1;33m,\u001b[0m \u001b[1;33m*\u001b[0m\u001b[0margs\u001b[0m\u001b[1;33m,\u001b[0m \u001b[1;33m**\u001b[0m\u001b[0mkwargs\u001b[0m\u001b[1;33m)\u001b[0m\u001b[1;33m\u001b[0m\u001b[1;33m\u001b[0m\u001b[0m\n\u001b[0m\u001b[0;32m    222\u001b[0m \u001b[1;33m\u001b[0m\u001b[0m\n\u001b[0;32m    223\u001b[0m     \u001b[1;33m@\u001b[0m\u001b[0mdoc\u001b[0m\u001b[1;33m(\u001b[0m\u001b[0m_agg_template\u001b[0m\u001b[1;33m,\u001b[0m \u001b[0mexamples\u001b[0m\u001b[1;33m=\u001b[0m\u001b[0m_agg_examples_doc\u001b[0m\u001b[1;33m,\u001b[0m \u001b[0mklass\u001b[0m\u001b[1;33m=\u001b[0m\u001b[1;34m\"Series\"\u001b[0m\u001b[1;33m)\u001b[0m\u001b[1;33m\u001b[0m\u001b[1;33m\u001b[0m\u001b[0m\n",
      "\u001b[1;32m~\\AppData\\Roaming\\Python\\Python38\\site-packages\\pandas\\core\\groupby\\groupby.py\u001b[0m in \u001b[0;36mapply\u001b[1;34m(self, func, *args, **kwargs)\u001b[0m\n\u001b[0;32m    892\u001b[0m         \u001b[1;32mwith\u001b[0m \u001b[0moption_context\u001b[0m\u001b[1;33m(\u001b[0m\u001b[1;34m\"mode.chained_assignment\"\u001b[0m\u001b[1;33m,\u001b[0m \u001b[1;32mNone\u001b[0m\u001b[1;33m)\u001b[0m\u001b[1;33m:\u001b[0m\u001b[1;33m\u001b[0m\u001b[1;33m\u001b[0m\u001b[0m\n\u001b[0;32m    893\u001b[0m             \u001b[1;32mtry\u001b[0m\u001b[1;33m:\u001b[0m\u001b[1;33m\u001b[0m\u001b[1;33m\u001b[0m\u001b[0m\n\u001b[1;32m--> 894\u001b[1;33m                 \u001b[0mresult\u001b[0m \u001b[1;33m=\u001b[0m \u001b[0mself\u001b[0m\u001b[1;33m.\u001b[0m\u001b[0m_python_apply_general\u001b[0m\u001b[1;33m(\u001b[0m\u001b[0mf\u001b[0m\u001b[1;33m,\u001b[0m \u001b[0mself\u001b[0m\u001b[1;33m.\u001b[0m\u001b[0m_selected_obj\u001b[0m\u001b[1;33m)\u001b[0m\u001b[1;33m\u001b[0m\u001b[1;33m\u001b[0m\u001b[0m\n\u001b[0m\u001b[0;32m    895\u001b[0m             \u001b[1;32mexcept\u001b[0m \u001b[0mTypeError\u001b[0m\u001b[1;33m:\u001b[0m\u001b[1;33m\u001b[0m\u001b[1;33m\u001b[0m\u001b[0m\n\u001b[0;32m    896\u001b[0m                 \u001b[1;31m# gh-20949\u001b[0m\u001b[1;33m\u001b[0m\u001b[1;33m\u001b[0m\u001b[1;33m\u001b[0m\u001b[0m\n",
      "\u001b[1;32m~\\AppData\\Roaming\\Python\\Python38\\site-packages\\pandas\\core\\groupby\\groupby.py\u001b[0m in \u001b[0;36m_python_apply_general\u001b[1;34m(self, f, data)\u001b[0m\n\u001b[0;32m    926\u001b[0m             \u001b[0mdata\u001b[0m \u001b[0mafter\u001b[0m \u001b[0mapplying\u001b[0m \u001b[0mf\u001b[0m\u001b[1;33m\u001b[0m\u001b[1;33m\u001b[0m\u001b[0m\n\u001b[0;32m    927\u001b[0m         \"\"\"\n\u001b[1;32m--> 928\u001b[1;33m         \u001b[0mkeys\u001b[0m\u001b[1;33m,\u001b[0m \u001b[0mvalues\u001b[0m\u001b[1;33m,\u001b[0m \u001b[0mmutated\u001b[0m \u001b[1;33m=\u001b[0m \u001b[0mself\u001b[0m\u001b[1;33m.\u001b[0m\u001b[0mgrouper\u001b[0m\u001b[1;33m.\u001b[0m\u001b[0mapply\u001b[0m\u001b[1;33m(\u001b[0m\u001b[0mf\u001b[0m\u001b[1;33m,\u001b[0m \u001b[0mdata\u001b[0m\u001b[1;33m,\u001b[0m \u001b[0mself\u001b[0m\u001b[1;33m.\u001b[0m\u001b[0maxis\u001b[0m\u001b[1;33m)\u001b[0m\u001b[1;33m\u001b[0m\u001b[1;33m\u001b[0m\u001b[0m\n\u001b[0m\u001b[0;32m    929\u001b[0m \u001b[1;33m\u001b[0m\u001b[0m\n\u001b[0;32m    930\u001b[0m         return self._wrap_applied_output(\n",
      "\u001b[1;32m~\\AppData\\Roaming\\Python\\Python38\\site-packages\\pandas\\core\\groupby\\ops.py\u001b[0m in \u001b[0;36mapply\u001b[1;34m(self, f, data, axis)\u001b[0m\n\u001b[0;32m    236\u001b[0m             \u001b[1;31m# group might be modified\u001b[0m\u001b[1;33m\u001b[0m\u001b[1;33m\u001b[0m\u001b[1;33m\u001b[0m\u001b[0m\n\u001b[0;32m    237\u001b[0m             \u001b[0mgroup_axes\u001b[0m \u001b[1;33m=\u001b[0m \u001b[0mgroup\u001b[0m\u001b[1;33m.\u001b[0m\u001b[0maxes\u001b[0m\u001b[1;33m\u001b[0m\u001b[1;33m\u001b[0m\u001b[0m\n\u001b[1;32m--> 238\u001b[1;33m             \u001b[0mres\u001b[0m \u001b[1;33m=\u001b[0m \u001b[0mf\u001b[0m\u001b[1;33m(\u001b[0m\u001b[0mgroup\u001b[0m\u001b[1;33m)\u001b[0m\u001b[1;33m\u001b[0m\u001b[1;33m\u001b[0m\u001b[0m\n\u001b[0m\u001b[0;32m    239\u001b[0m             \u001b[1;32mif\u001b[0m \u001b[1;32mnot\u001b[0m \u001b[0m_is_indexed_like\u001b[0m\u001b[1;33m(\u001b[0m\u001b[0mres\u001b[0m\u001b[1;33m,\u001b[0m \u001b[0mgroup_axes\u001b[0m\u001b[1;33m,\u001b[0m \u001b[0maxis\u001b[0m\u001b[1;33m)\u001b[0m\u001b[1;33m:\u001b[0m\u001b[1;33m\u001b[0m\u001b[1;33m\u001b[0m\u001b[0m\n\u001b[0;32m    240\u001b[0m                 \u001b[0mmutated\u001b[0m \u001b[1;33m=\u001b[0m \u001b[1;32mTrue\u001b[0m\u001b[1;33m\u001b[0m\u001b[1;33m\u001b[0m\u001b[0m\n",
      "\u001b[1;32mD:\\miniconda3\\lib\\site-packages\\seaborn\\relational.py\u001b[0m in \u001b[0;36mbootstrapped_cis\u001b[1;34m(vals)\u001b[0m\n\u001b[0;32m    393\u001b[0m                 \u001b[1;32mreturn\u001b[0m \u001b[0mnull_ci\u001b[0m\u001b[1;33m\u001b[0m\u001b[1;33m\u001b[0m\u001b[0m\n\u001b[0;32m    394\u001b[0m \u001b[1;33m\u001b[0m\u001b[0m\n\u001b[1;32m--> 395\u001b[1;33m             \u001b[0mboots\u001b[0m \u001b[1;33m=\u001b[0m \u001b[0mbootstrap\u001b[0m\u001b[1;33m(\u001b[0m\u001b[0mvals\u001b[0m\u001b[1;33m,\u001b[0m \u001b[0mfunc\u001b[0m\u001b[1;33m=\u001b[0m\u001b[0mfunc\u001b[0m\u001b[1;33m,\u001b[0m \u001b[0mn_boot\u001b[0m\u001b[1;33m=\u001b[0m\u001b[0mn_boot\u001b[0m\u001b[1;33m,\u001b[0m \u001b[0mseed\u001b[0m\u001b[1;33m=\u001b[0m\u001b[0mseed\u001b[0m\u001b[1;33m)\u001b[0m\u001b[1;33m\u001b[0m\u001b[1;33m\u001b[0m\u001b[0m\n\u001b[0m\u001b[0;32m    396\u001b[0m             \u001b[0mcis\u001b[0m \u001b[1;33m=\u001b[0m \u001b[0mci_func\u001b[0m\u001b[1;33m(\u001b[0m\u001b[0mboots\u001b[0m\u001b[1;33m,\u001b[0m \u001b[0mci\u001b[0m\u001b[1;33m)\u001b[0m\u001b[1;33m\u001b[0m\u001b[1;33m\u001b[0m\u001b[0m\n\u001b[0;32m    397\u001b[0m             \u001b[1;32mreturn\u001b[0m \u001b[0mpd\u001b[0m\u001b[1;33m.\u001b[0m\u001b[0mSeries\u001b[0m\u001b[1;33m(\u001b[0m\u001b[0mcis\u001b[0m\u001b[1;33m,\u001b[0m \u001b[1;33m[\u001b[0m\u001b[1;34m\"low\"\u001b[0m\u001b[1;33m,\u001b[0m \u001b[1;34m\"high\"\u001b[0m\u001b[1;33m]\u001b[0m\u001b[1;33m)\u001b[0m\u001b[1;33m\u001b[0m\u001b[1;33m\u001b[0m\u001b[0m\n",
      "\u001b[1;32mD:\\miniconda3\\lib\\site-packages\\seaborn\\algorithms.py\u001b[0m in \u001b[0;36mbootstrap\u001b[1;34m(*args, **kwargs)\u001b[0m\n\u001b[0;32m     81\u001b[0m     \u001b[0mboot_dist\u001b[0m \u001b[1;33m=\u001b[0m \u001b[1;33m[\u001b[0m\u001b[1;33m]\u001b[0m\u001b[1;33m\u001b[0m\u001b[1;33m\u001b[0m\u001b[0m\n\u001b[0;32m     82\u001b[0m     \u001b[1;32mfor\u001b[0m \u001b[0mi\u001b[0m \u001b[1;32min\u001b[0m \u001b[0mrange\u001b[0m\u001b[1;33m(\u001b[0m\u001b[0mint\u001b[0m\u001b[1;33m(\u001b[0m\u001b[0mn_boot\u001b[0m\u001b[1;33m)\u001b[0m\u001b[1;33m)\u001b[0m\u001b[1;33m:\u001b[0m\u001b[1;33m\u001b[0m\u001b[1;33m\u001b[0m\u001b[0m\n\u001b[1;32m---> 83\u001b[1;33m         \u001b[0mresampler\u001b[0m \u001b[1;33m=\u001b[0m \u001b[0mintegers\u001b[0m\u001b[1;33m(\u001b[0m\u001b[1;36m0\u001b[0m\u001b[1;33m,\u001b[0m \u001b[0mn\u001b[0m\u001b[1;33m,\u001b[0m \u001b[0mn\u001b[0m\u001b[1;33m,\u001b[0m \u001b[0mdtype\u001b[0m\u001b[1;33m=\u001b[0m\u001b[0mnp\u001b[0m\u001b[1;33m.\u001b[0m\u001b[0mintp\u001b[0m\u001b[1;33m)\u001b[0m  \u001b[1;31m# intp is indexing dtype\u001b[0m\u001b[1;33m\u001b[0m\u001b[1;33m\u001b[0m\u001b[0m\n\u001b[0m\u001b[0;32m     84\u001b[0m         \u001b[0msample\u001b[0m \u001b[1;33m=\u001b[0m \u001b[1;33m[\u001b[0m\u001b[0ma\u001b[0m\u001b[1;33m.\u001b[0m\u001b[0mtake\u001b[0m\u001b[1;33m(\u001b[0m\u001b[0mresampler\u001b[0m\u001b[1;33m,\u001b[0m \u001b[0maxis\u001b[0m\u001b[1;33m=\u001b[0m\u001b[1;36m0\u001b[0m\u001b[1;33m)\u001b[0m \u001b[1;32mfor\u001b[0m \u001b[0ma\u001b[0m \u001b[1;32min\u001b[0m \u001b[0margs\u001b[0m\u001b[1;33m]\u001b[0m\u001b[1;33m\u001b[0m\u001b[1;33m\u001b[0m\u001b[0m\n\u001b[0;32m     85\u001b[0m         \u001b[0mboot_dist\u001b[0m\u001b[1;33m.\u001b[0m\u001b[0mappend\u001b[0m\u001b[1;33m(\u001b[0m\u001b[0mf\u001b[0m\u001b[1;33m(\u001b[0m\u001b[1;33m*\u001b[0m\u001b[0msample\u001b[0m\u001b[1;33m,\u001b[0m \u001b[1;33m**\u001b[0m\u001b[0mfunc_kwargs\u001b[0m\u001b[1;33m)\u001b[0m\u001b[1;33m)\u001b[0m\u001b[1;33m\u001b[0m\u001b[1;33m\u001b[0m\u001b[0m\n",
      "\u001b[1;31mKeyboardInterrupt\u001b[0m: "
     ]
    },
    {
     "data": {
      "image/png": "[encoded data removed]",
      "text/plain": [
       "<Figure size 1440x360 with 1 Axes>"
      ]
     },
     "metadata": {},
     "output_type": "display_data"
    }
   ],
   "source": [
    "fig, ax = plt.subplots(figsize=(20, 5))\n",
    "\n",
    "ax = sns.lineplot(data=av2)\n",
    "ax.set(xlabel='some kind of x value', ylabel='value', title='Valence and Arousal - Participant x')\n",
    "ax.set(ylim=(-0.7, 0.7))"
   ]
  },
  {
   "cell_type": "markdown",
   "metadata": {},
   "source": [
    "## Low-pass Filter"
   ]
  },
  {
   "cell_type": "code",
   "execution_count": null,
   "metadata": {},
   "outputs": [
    {
     "data": {
      "text/plain": [
       "[(-1.0, 1.0)]"
      ]
     },
     "execution_count": 63,
     "metadata": {},
     "output_type": "execute_result"
    },
    {
     "data": {
      "image/png": "[encoded data removed]",
      "text/plain": [
       "<Figure size 1440x360 with 1 Axes>"
      ]
     },
     "metadata": {},
     "output_type": "display_data"
    }
   ],
   "source": [
    "order = 5\n",
    "sampling_freq = 40\n",
    "cutoff_freq = 10\n",
    "sampling_duration = 5\n",
    "number_of_samples = sampling_freq * sampling_duration\n",
    "time = np.linspace(0, sampling_duration, number_of_samples, endpoint=False)\n",
    "\n",
    "normalized_cutoff_freq = 2 * cutoff_freq / sampling_freq\n",
    "numerator_coeffs, denominator_coeffs = scipy.signal.butter(order, normalized_cutoff_freq)\n",
    "filtered_signal = scipy.signal.lfilter(numerator_coeffs, denominator_coeffs, av1)\n",
    "\n",
    "fig, ax = plt.subplots(figsize=(20, 5))\n",
    "\n",
    "ax = sns.lineplot(data=filtered_signal)\n",
    "ax.set(xlabel='some kind of x value', ylabel='value', title='Valence and Arousal - Participant x')\n",
    "ax.set(ylim=(-1, 1))"
   ]
  },
  {
   "cell_type": "code",
   "execution_count": null,
   "metadata": {},
   "outputs": [
    {
     "data": {
      "text/plain": [
       "array([[-0.00854787, -0.03467122],\n",
       "       [-0.0076382 , -0.03053967],\n",
       "       [-0.0052852 , -0.01884419],\n",
       "       ...,\n",
       "       [-0.00959263, -0.04775814],\n",
       "       [-0.01005639, -0.05240173],\n",
       "       [-0.01098847, -0.05333266]])"
      ]
     },
     "execution_count": 64,
     "metadata": {},
     "output_type": "execute_result"
    }
   ],
   "source": [
    "filtered_signal"
   ]
  },
  {
   "cell_type": "markdown",
   "metadata": {},
   "source": [
    "# Expression Data"
   ]
  },
  {
   "cell_type": "code",
   "execution_count": 91,
   "metadata": {},
   "outputs": [
    {
     "data": {
      "text/plain": [
       "0         Neutral\n",
       "1         Neutral\n",
       "2         Neutral\n",
       "3         Neutral\n",
       "4         Neutral\n",
       "           ...   \n",
       "439993    Neutral\n",
       "439994    Neutral\n",
       "439995    Neutral\n",
       "439996    Neutral\n",
       "439997    Neutral\n",
       "Name: Expression, Length: 439998, dtype: object"
      ]
     },
     "execution_count": 91,
     "metadata": {},
     "output_type": "execute_result"
    }
   ],
   "source": [
    "#Expression only, extracting data from each participant\n",
    "\n",
    "combinedExpr = pd.concat([p1.Expression, p2.Expression, p3.Expression, p4.Expression, p5.Expression,\n",
    "                          p6.Expression, p7.Expression, p8.Expression, p9.Expression, p10.Expression,\n",
    "                          p11.Expression, p12.Expression, p13.Expression],\n",
    "                        axis=0, ignore_index=True)\n",
    "\n",
    "#Remap the integers into words\n",
    "mapping = {0: 'Neutral', 1: 'Happy', 2: 'Sad', 3: 'Surprise', 4: 'Fear', 5: 'Disgust', 6: 'Anger', 7: 'Contempt'}\n",
    "expressionCategories = ['Neutral', 'Happy', 'Sad', 'Surprise', 'Fear', 'Disgust', 'Anger', 'Contempt']\n",
    "\n",
    "#Take just the expression column for mapping, as it can't be performed on full datasets\n",
    "expressionLabeled = combinedExpr.map(mapping)\n",
    "\n",
    "expressionLabeled\n"
   ]
  },
  {
   "cell_type": "code",
   "execution_count": 92,
   "metadata": {},
   "outputs": [
    {
     "name": "stdout",
     "output_type": "stream",
     "text": [
      "Expression percentages:\n",
      "Neutral     77.057623\n",
      "Disgust      8.632994\n",
      "Anger        7.470716\n",
      "Sad          3.184560\n",
      "Happy        1.385461\n",
      "Fear         1.218415\n",
      "Contempt     0.741367\n",
      "Surprise     0.308865\n",
      "Name: Expression, dtype: float64\n"
     ]
    }
   ],
   "source": [
    "print('Expression percentages:')\n",
    "print(expressionLabeled.value_counts(normalize=True) * 100)"
   ]
  },
  {
   "cell_type": "code",
   "execution_count": null,
   "metadata": {},
   "outputs": [
    {
     "name": "stdout",
     "output_type": "stream",
     "text": [
      "          0       1\n",
      "0   Neutral  339052\n",
      "1   Disgust   37985\n",
      "2     Anger   32871\n",
      "3       Sad   14012\n",
      "4     Happy    6096\n",
      "5      Fear    5361\n",
      "6  Contempt    3262\n",
      "7  Surprise    1359\n"
     ]
    }
   ],
   "source": [
    "#Count occurrence/frequency of each expression\n",
    "expressionFreq = expressionLabeled.value_counts().to_dict()\n",
    "\n",
    "#Create a dataframe out of it\n",
    "expressionFreqdf = pd.DataFrame(expressionFreq.items())\n",
    "print (expressionFreqdf)"
   ]
  },
  {
   "cell_type": "code",
   "execution_count": null,
   "metadata": {},
   "outputs": [
    {
     "data": {
      "image/png": "[encoded data removed]",
      "text/plain": [
       "<Figure size 720x720 with 1 Axes>"
      ]
     },
     "metadata": {},
     "output_type": "display_data"
    }
   ],
   "source": [
    "fig, ax = plt.subplots(figsize=(10, 10))\n",
    "\n",
    "ax = sns.barplot(x=0, y=1,data=expressionFreqdf,)\n",
    "ax.set(xlabel='Expression', ylabel='Count', title='Expression Frequency')\n",
    "#ax.set(ylim=(-1, 1))\n",
    "add_value_labels_int(ax)"
   ]
  }
 ],
 "metadata": {
  "interpreter": {
   "hash": "37b255bb5dc0d995b91bd1b934b878e610a26475f52eafaf29fdb395fb105534"
  },
  "kernelspec": {
   "display_name": "Python 3.8.5 64-bit ('base': conda)",
   "name": "python3"
  },
  "language_info": {
   "codemirror_mode": {
    "name": "ipython",
    "version": 3
   },
   "file_extension": ".py",
   "mimetype": "text/x-python",
   "name": "python",
   "nbconvert_exporter": "python",
   "pygments_lexer": "ipython3",
   "version": "3.8.12"
  },
  "orig_nbformat": 2
 },
 "nbformat": 4,
 "nbformat_minor": 2
}
