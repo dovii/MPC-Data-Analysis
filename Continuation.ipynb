{
 "cells": [
  {
   "cell_type": "code",
   "execution_count": 1,
   "metadata": {},
   "outputs": [
    {
     "name": "stderr",
     "output_type": "stream",
     "text": [
      "D:\\miniconda3\\lib\\site-packages\\outdated\\utils.py:14: OutdatedPackageWarning: The package outdated is out of date. Your version is 0.2.0, the latest is 0.2.1.\n",
      "Set the environment variable OUTDATED_IGNORE=1 to disable these warnings.\n",
      "  return warn(\n"
     ]
    }
   ],
   "source": [
    "import pandas as pd \n",
    "import scipy.stats as stats\n",
    "import seaborn as sns\n",
    "import numpy as np\n",
    "import pingouin as pg\n",
    "import matplotlib.pyplot as plt\n",
    "import os\n",
    "import glob\n",
    "from scipy.signal import butter,filtfilt\n",
    "import scipy\n",
    "\n",
    "#Setup to show all columns (useful for Questionnaire)\n",
    "pd.set_option('display.max_rows', 500) \n",
    "pd.set_option('display.max_columns', 500)\n",
    "pd.set_option('display.width', 1000)\n",
    "pd.options.display.max_colwidth = 1000\n",
    "\n",
    "sns.set_theme(style=\"whitegrid\")"
   ]
  },
  {
   "cell_type": "markdown",
   "metadata": {},
   "source": [
    "# Get single participant's conation data"
   ]
  },
  {
   "cell_type": "code",
   "execution_count": 2,
   "metadata": {},
   "outputs": [
    {
     "data": {
      "text/html": [
       "<div>\n",
       "<style scoped>\n",
       "    .dataframe tbody tr th:only-of-type {\n",
       "        vertical-align: middle;\n",
       "    }\n",
       "\n",
       "    .dataframe tbody tr th {\n",
       "        vertical-align: top;\n",
       "    }\n",
       "\n",
       "    .dataframe thead th {\n",
       "        text-align: right;\n",
       "    }\n",
       "</style>\n",
       "<table border=\"1\" class=\"dataframe\">\n",
       "  <thead>\n",
       "    <tr style=\"text-align: right;\">\n",
       "      <th></th>\n",
       "      <th>0</th>\n",
       "      <th>1</th>\n",
       "      <th>2</th>\n",
       "    </tr>\n",
       "  </thead>\n",
       "  <tbody>\n",
       "    <tr>\n",
       "      <th>0</th>\n",
       "      <td>7</td>\n",
       "      <td>7</td>\n",
       "      <td>6</td>\n",
       "    </tr>\n",
       "  </tbody>\n",
       "</table>\n",
       "</div>"
      ],
      "text/plain": [
       "   0  1  2\n",
       "0  7  7  6"
      ]
     },
     "execution_count": 2,
     "metadata": {},
     "output_type": "execute_result"
    }
   ],
   "source": [
    "p1 = pd.read_table('Data/Participant1/conation.txt',header=None).T\n",
    "p2 = pd.read_table('Data/Participant2/conation.txt',header=None).T\n",
    "p3 = pd.read_table('Data/Participant3/conation.txt',header=None).T\n",
    "p4 = pd.read_table('Data/Participant4/conation.txt',header=None).T\n",
    "p5 = pd.read_table('Data/Participant2/conation.txt',header=None).T\n",
    "p6 = pd.read_table('Data/Participant6/conation.txt',header=None).T\n",
    "p7 = pd.read_table('Data/Participant7/conation.txt',header=None).T\n",
    "p8 = pd.read_table('Data/Participant8/conation.txt',header=None).T\n",
    "p9 = pd.read_table('Data/Participant9/conation.txt',header=None).T\n",
    "p10 = pd.read_table('Data/Participant10/conation.txt',header=None).T\n",
    "p11 = pd.read_table('Data/Participant11/conation.txt',header=None).T\n",
    "p12 = pd.read_table('Data/Participant12/conation.txt',header=None).T\n",
    "p13 = pd.read_table('Data/Participant13/conation.txt',header=None).T\n",
    "\n",
    "p1\n"
   ]
  },
  {
   "cell_type": "markdown",
   "metadata": {},
   "source": [
    "# Extract conation data, taken from all participants"
   ]
  },
  {
   "cell_type": "code",
   "execution_count": 3,
   "metadata": {},
   "outputs": [
    {
     "name": "stdout",
     "output_type": "stream",
     "text": [
      "['Participant1', 'Participant10', 'Participant11', 'Participant12', 'Participant13', 'Participant2', 'Participant3', 'Participant4', 'Participant5', 'Participant6', 'Participant7', 'Participant8', 'Participant9']\n",
      "['Data/Participant1/conation.txt', 'Data/Participant10/conation.txt', 'Data/Participant11/conation.txt', 'Data/Participant12/conation.txt', 'Data/Participant13/conation.txt', 'Data/Participant2/conation.txt', 'Data/Participant3/conation.txt', 'Data/Participant4/conation.txt', 'Data/Participant5/conation.txt', 'Data/Participant6/conation.txt', 'Data/Participant7/conation.txt', 'Data/Participant8/conation.txt', 'Data/Participant9/conation.txt']\n"
     ]
    },
    {
     "data": {
      "text/html": [
       "<div>\n",
       "<style scoped>\n",
       "    .dataframe tbody tr th:only-of-type {\n",
       "        vertical-align: middle;\n",
       "    }\n",
       "\n",
       "    .dataframe tbody tr th {\n",
       "        vertical-align: top;\n",
       "    }\n",
       "\n",
       "    .dataframe thead th {\n",
       "        text-align: right;\n",
       "    }\n",
       "</style>\n",
       "<table border=\"1\" class=\"dataframe\">\n",
       "  <thead>\n",
       "    <tr style=\"text-align: right;\">\n",
       "      <th></th>\n",
       "      <th>0</th>\n",
       "      <th>1</th>\n",
       "      <th>2</th>\n",
       "      <th>Avg_per_person</th>\n",
       "    </tr>\n",
       "  </thead>\n",
       "  <tbody>\n",
       "    <tr>\n",
       "      <th>0</th>\n",
       "      <td>7</td>\n",
       "      <td>7</td>\n",
       "      <td>6</td>\n",
       "      <td>6.666667</td>\n",
       "    </tr>\n",
       "    <tr>\n",
       "      <th>1</th>\n",
       "      <td>7</td>\n",
       "      <td>6</td>\n",
       "      <td>6</td>\n",
       "      <td>6.333333</td>\n",
       "    </tr>\n",
       "    <tr>\n",
       "      <th>2</th>\n",
       "      <td>6</td>\n",
       "      <td>5</td>\n",
       "      <td>4</td>\n",
       "      <td>5.000000</td>\n",
       "    </tr>\n",
       "    <tr>\n",
       "      <th>3</th>\n",
       "      <td>6</td>\n",
       "      <td>4</td>\n",
       "      <td>6</td>\n",
       "      <td>5.333333</td>\n",
       "    </tr>\n",
       "    <tr>\n",
       "      <th>4</th>\n",
       "      <td>6</td>\n",
       "      <td>6</td>\n",
       "      <td>6</td>\n",
       "      <td>6.000000</td>\n",
       "    </tr>\n",
       "    <tr>\n",
       "      <th>5</th>\n",
       "      <td>6</td>\n",
       "      <td>6</td>\n",
       "      <td>4</td>\n",
       "      <td>5.333333</td>\n",
       "    </tr>\n",
       "    <tr>\n",
       "      <th>6</th>\n",
       "      <td>6</td>\n",
       "      <td>6</td>\n",
       "      <td>6</td>\n",
       "      <td>6.000000</td>\n",
       "    </tr>\n",
       "    <tr>\n",
       "      <th>7</th>\n",
       "      <td>5</td>\n",
       "      <td>4</td>\n",
       "      <td>3</td>\n",
       "      <td>4.000000</td>\n",
       "    </tr>\n",
       "    <tr>\n",
       "      <th>8</th>\n",
       "      <td>3</td>\n",
       "      <td>3</td>\n",
       "      <td>4</td>\n",
       "      <td>3.333333</td>\n",
       "    </tr>\n",
       "    <tr>\n",
       "      <th>9</th>\n",
       "      <td>7</td>\n",
       "      <td>4</td>\n",
       "      <td>6</td>\n",
       "      <td>5.666667</td>\n",
       "    </tr>\n",
       "    <tr>\n",
       "      <th>10</th>\n",
       "      <td>7</td>\n",
       "      <td>7</td>\n",
       "      <td>7</td>\n",
       "      <td>7.000000</td>\n",
       "    </tr>\n",
       "    <tr>\n",
       "      <th>11</th>\n",
       "      <td>7</td>\n",
       "      <td>5</td>\n",
       "      <td>5</td>\n",
       "      <td>5.666667</td>\n",
       "    </tr>\n",
       "    <tr>\n",
       "      <th>12</th>\n",
       "      <td>7</td>\n",
       "      <td>7</td>\n",
       "      <td>7</td>\n",
       "      <td>7.000000</td>\n",
       "    </tr>\n",
       "  </tbody>\n",
       "</table>\n",
       "</div>"
      ],
      "text/plain": [
       "    0  1  2  Avg_per_person\n",
       "0   7  7  6        6.666667\n",
       "1   7  6  6        6.333333\n",
       "2   6  5  4        5.000000\n",
       "3   6  4  6        5.333333\n",
       "4   6  6  6        6.000000\n",
       "5   6  6  4        5.333333\n",
       "6   6  6  6        6.000000\n",
       "7   5  4  3        4.000000\n",
       "8   3  3  4        3.333333\n",
       "9   7  4  6        5.666667\n",
       "10  7  7  7        7.000000\n",
       "11  7  5  5        5.666667\n",
       "12  7  7  7        7.000000"
      ]
     },
     "execution_count": 3,
     "metadata": {},
     "output_type": "execute_result"
    }
   ],
   "source": [
    "filepath = 'Data/'\n",
    "fileConation = 'conation.txt'\n",
    "\n",
    "#find folder of each participant\n",
    "participants = os.listdir('Data/') \n",
    "print(participants)\n",
    "\n",
    "#find the conation file inside the participant folder\n",
    "conationFiles = []\n",
    "\n",
    "for p in participants:\n",
    "    conationFiles.append(filepath+p+'/'+fileConation)\n",
    "print(conationFiles)\n",
    "\n",
    "#combine different participant's conation data\n",
    "data = []\n",
    "\n",
    "for f in conationFiles:\n",
    "    df = pd.read_table(f, header=None)\n",
    "    data.append(df.T)\n",
    "\n",
    "conation = pd.concat((data), ignore_index=True)\n",
    "\n",
    "conation[\"Avg_per_person\"] = conation.mean(axis = 1)\n",
    "\n",
    "conation"
   ]
  },
  {
   "cell_type": "code",
   "execution_count": 4,
   "metadata": {},
   "outputs": [
    {
     "data": {
      "text/html": [
       "<div>\n",
       "<style scoped>\n",
       "    .dataframe tbody tr th:only-of-type {\n",
       "        vertical-align: middle;\n",
       "    }\n",
       "\n",
       "    .dataframe tbody tr th {\n",
       "        vertical-align: top;\n",
       "    }\n",
       "\n",
       "    .dataframe thead th {\n",
       "        text-align: right;\n",
       "    }\n",
       "</style>\n",
       "<table border=\"1\" class=\"dataframe\">\n",
       "  <thead>\n",
       "    <tr style=\"text-align: right;\">\n",
       "      <th></th>\n",
       "      <th>After 6 levels</th>\n",
       "      <th>After 12 levels</th>\n",
       "      <th>After 18 levels</th>\n",
       "    </tr>\n",
       "  </thead>\n",
       "  <tbody>\n",
       "    <tr>\n",
       "      <th>0</th>\n",
       "      <td>6.153846</td>\n",
       "      <td>5.384615</td>\n",
       "      <td>5.384615</td>\n",
       "    </tr>\n",
       "  </tbody>\n",
       "</table>\n",
       "</div>"
      ],
      "text/plain": [
       "   After 6 levels  After 12 levels  After 18 levels\n",
       "0        6.153846         5.384615         5.384615"
      ]
     },
     "execution_count": 4,
     "metadata": {},
     "output_type": "execute_result"
    }
   ],
   "source": [
    "conationMean = (conation.iloc[:,0:3]).mean(axis = 0)\n",
    "conationMeanTable = pd.DataFrame(conationMean).transpose()\n",
    "\n",
    "conationMeanTable.columns = [\"After 6 levels\", \"After 12 levels\", \"After 18 levels\"]\n",
    "conationMeanTable"
   ]
  },
  {
   "cell_type": "markdown",
   "metadata": {},
   "source": [
    "# Functions to add labels to graphs"
   ]
  },
  {
   "cell_type": "code",
   "execution_count": 5,
   "metadata": {},
   "outputs": [],
   "source": [
    "def add_value_labels(ax, spacing=5):\n",
    "    \"\"\"Add labels to the end of each bar in a bar chart.\n",
    "\n",
    "    Arguments:\n",
    "        ax (matplotlib.axes.Axes): The matplotlib object containing the axes\n",
    "            of the plot to annotate.\n",
    "        spacing (int): The distance between the labels and the bars.\n",
    "    \"\"\"\n",
    "\n",
    "    # For each bar: Place a label\n",
    "    for rect in ax.patches:\n",
    "        # Get X and Y placement of label from rect.\n",
    "        y_value = rect.get_height()\n",
    "        x_value = rect.get_x() + rect.get_width() / 2\n",
    "\n",
    "        # Number of points between bar and label. Change to your liking.\n",
    "        space = spacing\n",
    "        # Vertical alignment for positive values\n",
    "        va = 'bottom'\n",
    "\n",
    "        # If value of bar is negative: Place label below bar\n",
    "        if y_value < 0:\n",
    "            # Invert space to place label below\n",
    "            space *= -1\n",
    "            # Vertically align label at top\n",
    "            va = 'top'\n",
    "\n",
    "        # Use Y value as label and format number with 2 decimal places\n",
    "        label = \"{:.3f}\".format(y_value)\n",
    "\n",
    "        # Create annotation\n",
    "        ax.annotate(\n",
    "            label,                      # Use `label` as label\n",
    "            (x_value, y_value),         # Place label at end of the bar\n",
    "            xytext=(0, space),          # Vertically shift label by `space`\n",
    "            textcoords=\"offset points\", # Interpret `xytext` as offset in points\n",
    "            ha='center',                # Horizontally center label\n",
    "            va=va)                      # Vertically align label differently for\n",
    "                                        # positive and negative values."
   ]
  },
  {
   "cell_type": "code",
   "execution_count": 6,
   "metadata": {},
   "outputs": [],
   "source": [
    "def add_value_labels_int(ax, spacing=5):\n",
    "\n",
    "    # For each bar: Place a label\n",
    "    for rect in ax.patches:\n",
    "        # Get X and Y placement of label from rect.\n",
    "        y_value = rect.get_height()\n",
    "        x_value = rect.get_x() + rect.get_width() / 2\n",
    "\n",
    "        # Number of points between bar and label. Change to your liking.\n",
    "        space = spacing\n",
    "        # Vertical alignment for positive values\n",
    "        va = 'bottom'\n",
    "\n",
    "        # If value of bar is negative: Place label below bar\n",
    "        if y_value < 0:\n",
    "            # Invert space to place label below\n",
    "            space *= -1\n",
    "            # Vertically align label at top\n",
    "            va = 'top'\n",
    "\n",
    "        # Use Y value as label and format number with 2 decimal places\n",
    "        label = \"{:.0f}\".format(y_value)\n",
    "\n",
    "        # Create annotation\n",
    "        ax.annotate(\n",
    "            label,                      # Use `label` as label\n",
    "            (x_value, y_value),         # Place label at end of the bar\n",
    "            xytext=(0, space),          # Vertically shift label by `space`\n",
    "            textcoords=\"offset points\", # Interpret `xytext` as offset in points\n",
    "            ha='center',                # Horizontally center label\n",
    "            va=va)                      # Vertically align label differently for\n",
    "                                        # positive and negative values."
   ]
  },
  {
   "cell_type": "code",
   "execution_count": 7,
   "metadata": {},
   "outputs": [
    {
     "data": {
      "image/png": "[encoded data removed]",
      "text/plain": [
       "<Figure size 432x288 with 1 Axes>"
      ]
     },
     "metadata": {},
     "output_type": "display_data"
    }
   ],
   "source": [
    "ax = sns.barplot(data=conationMeanTable, linewidth=1.5, edgecolor=\".3\")\n",
    "ax.set(ylim=(0, 7))\n",
    "ax.set(ylabel='Mean value')\n",
    "add_value_labels(ax)\n",
    "\n",
    "ax.figure.savefig('Figures/Continuation_Desire.png')"
   ]
  },
  {
   "cell_type": "markdown",
   "metadata": {},
   "source": [
    "# Get single participant's conation explanation data"
   ]
  },
  {
   "cell_type": "code",
   "execution_count": 8,
   "metadata": {},
   "outputs": [
    {
     "data": {
      "text/html": [
       "<div>\n",
       "<style scoped>\n",
       "    .dataframe tbody tr th:only-of-type {\n",
       "        vertical-align: middle;\n",
       "    }\n",
       "\n",
       "    .dataframe tbody tr th {\n",
       "        vertical-align: top;\n",
       "    }\n",
       "\n",
       "    .dataframe thead th {\n",
       "        text-align: right;\n",
       "    }\n",
       "</style>\n",
       "<table border=\"1\" class=\"dataframe\">\n",
       "  <thead>\n",
       "    <tr style=\"text-align: right;\">\n",
       "      <th></th>\n",
       "      <th>0</th>\n",
       "      <th>1</th>\n",
       "      <th>2</th>\n",
       "      <th>3</th>\n",
       "      <th>4</th>\n",
       "      <th>5</th>\n",
       "    </tr>\n",
       "  </thead>\n",
       "  <tbody>\n",
       "    <tr>\n",
       "      <th>0</th>\n",
       "      <td>It is extremely interesting and unlike any concept I've seen in games like this before. Very profiessional design in regards to progress as well</td>\n",
       "      <td>----------------</td>\n",
       "      <td>Still incredibly intrigued - and love how new mechanics continue being introduced with good pacing between them</td>\n",
       "      <td>----------------</td>\n",
       "      <td>The last two levels were the first ones htta really made me think, especially the last one. I like that all the elements are being combined together now, making it rather complicated</td>\n",
       "      <td>----------------</td>\n",
       "    </tr>\n",
       "  </tbody>\n",
       "</table>\n",
       "</div>"
      ],
      "text/plain": [
       "                                                                                                                                                  0                 1                                                                                                                 2                 3                                                                                                                                                                                       4                 5\n",
       "0  It is extremely interesting and unlike any concept I've seen in games like this before. Very profiessional design in regards to progress as well  ----------------  Still incredibly intrigued - and love how new mechanics continue being introduced with good pacing between them   ----------------  The last two levels were the first ones htta really made me think, especially the last one. I like that all the elements are being combined together now, making it rather complicated  ----------------"
      ]
     },
     "execution_count": 8,
     "metadata": {},
     "output_type": "execute_result"
    }
   ],
   "source": [
    "p1Why = pd.read_table('Data/Participant1/whyConation.txt',header=None).T\n",
    "p2Why = pd.read_table('Data/Participant2/whyConation.txt',header=None).T\n",
    "p3Why = pd.read_table('Data/Participant3/whyConation.txt',header=None).T\n",
    "p4Why = pd.read_table('Data/Participant4/whyConation.txt',header=None).T\n",
    "p5Why = pd.read_table('Data/Participant2/whyConation.txt',header=None).T\n",
    "p6Why = pd.read_table('Data/Participant6/whyConation.txt',header=None).T\n",
    "p7Why = pd.read_table('Data/Participant7/whyConation.txt',header=None).T\n",
    "p8Why = pd.read_table('Data/Participant8/whyConation.txt',header=None).T\n",
    "p9Why = pd.read_table('Data/Participant9/whyConation.txt',header=None).T\n",
    "p10Why = pd.read_table('Data/Participant10/whyConation.txt',header=None).T\n",
    "p11Why = pd.read_table('Data/Participant11/whyConation.txt',header=None).T\n",
    "p12Why = pd.read_table('Data/Participant12/whyConation.txt',header=None).T\n",
    "p13Why = pd.read_table('Data/Participant13/whyConation.txt',header=None).T\n",
    "\n",
    "p10Why"
   ]
  }
 ],
 "metadata": {
  "interpreter": {
   "hash": "37b255bb5dc0d995b91bd1b934b878e610a26475f52eafaf29fdb395fb105534"
  },
  "kernelspec": {
   "display_name": "Python 3.8.12 64-bit ('base': conda)",
   "language": "python",
   "name": "python3"
  },
  "language_info": {
   "codemirror_mode": {
    "name": "ipython",
    "version": 3
   },
   "file_extension": ".py",
   "mimetype": "text/x-python",
   "name": "python",
   "nbconvert_exporter": "python",
   "pygments_lexer": "ipython3",
   "version": "3.8.12"
  },
  "orig_nbformat": 4
 },
 "nbformat": 4,
 "nbformat_minor": 2
}
