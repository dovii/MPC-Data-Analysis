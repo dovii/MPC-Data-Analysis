{
 "cells": [
  {
   "cell_type": "code",
   "execution_count": 10,
   "metadata": {},
   "outputs": [],
   "source": [
    "import pandas as pd \n",
    "import scipy.stats as stats\n",
    "import seaborn as sns\n",
    "import numpy as np\n",
    "import pingouin as pg\n",
    "import matplotlib.pyplot as plt\n",
    "import os\n",
    "import glob\n",
    "from scipy.signal import butter,filtfilt\n",
    "import scipy\n",
    "\n",
    "sns.set_theme(style=\"whitegrid\")"
   ]
  },
  {
   "cell_type": "markdown",
   "metadata": {},
   "source": [
    "# Get single participant's conation data"
   ]
  },
  {
   "cell_type": "code",
   "execution_count": 27,
   "metadata": {},
   "outputs": [
    {
     "data": {
      "text/html": [
       "<div>\n",
       "<style scoped>\n",
       "    .dataframe tbody tr th:only-of-type {\n",
       "        vertical-align: middle;\n",
       "    }\n",
       "\n",
       "    .dataframe tbody tr th {\n",
       "        vertical-align: top;\n",
       "    }\n",
       "\n",
       "    .dataframe thead th {\n",
       "        text-align: right;\n",
       "    }\n",
       "</style>\n",
       "<table border=\"1\" class=\"dataframe\">\n",
       "  <thead>\n",
       "    <tr style=\"text-align: right;\">\n",
       "      <th></th>\n",
       "      <th>0</th>\n",
       "    </tr>\n",
       "  </thead>\n",
       "  <tbody>\n",
       "    <tr>\n",
       "      <th>0</th>\n",
       "      <td>7</td>\n",
       "    </tr>\n",
       "    <tr>\n",
       "      <th>1</th>\n",
       "      <td>7</td>\n",
       "    </tr>\n",
       "    <tr>\n",
       "      <th>2</th>\n",
       "      <td>6</td>\n",
       "    </tr>\n",
       "  </tbody>\n",
       "</table>\n",
       "</div>"
      ],
      "text/plain": [
       "   0\n",
       "0  7\n",
       "1  7\n",
       "2  6"
      ]
     },
     "execution_count": 27,
     "metadata": {},
     "output_type": "execute_result"
    }
   ],
   "source": [
    "\n",
    "p1 = pd.read_table('Data/Participant1/conation.txt',header=None)\n",
    "p2 = pd.read_table('Data/Participant2/conation.txt',header=None)\n",
    "p3 = pd.read_table('Data/Participant3/conation.txt',header=None)\n",
    "p4 = pd.read_table('Data/Participant4/conation.txt',header=None)\n",
    "p5 = pd.read_table('Data/Participant2/conation.txt',header=None)\n",
    "p6 = pd.read_table('Data/Participant6/conation.txt',header=None)\n",
    "p7 = pd.read_table('Data/Participant7/conation.txt',header=None)\n",
    "p8 = pd.read_table('Data/Participant8/conation.txt',header=None)\n",
    "p9 = pd.read_table('Data/Participant9/conation.txt',header=None)\n",
    "p10 = pd.read_table('Data/Participant10/conation.txt',header=None)\n",
    "p11 = pd.read_table('Data/Participant11/conation.txt',header=None)\n",
    "p12 = pd.read_table('Data/Participant12/conation.txt',header=None)\n",
    "p13 = pd.read_table('Data/Participant13/conation.txt',header=None)\n",
    "\n",
    "p1"
   ]
  },
  {
   "cell_type": "markdown",
   "metadata": {},
   "source": [
    "# Extract conation data, taken from all participants"
   ]
  },
  {
   "cell_type": "code",
   "execution_count": 33,
   "metadata": {},
   "outputs": [
    {
     "name": "stdout",
     "output_type": "stream",
     "text": [
      "['Participant1', 'Participant10', 'Participant11', 'Participant12', 'Participant13', 'Participant2', 'Participant3', 'Participant4', 'Participant5', 'Participant6', 'Participant7', 'Participant8', 'Participant9']\n",
      "['Data/Participant1/conation.txt', 'Data/Participant10/conation.txt', 'Data/Participant11/conation.txt', 'Data/Participant12/conation.txt', 'Data/Participant13/conation.txt', 'Data/Participant2/conation.txt', 'Data/Participant3/conation.txt', 'Data/Participant4/conation.txt', 'Data/Participant5/conation.txt', 'Data/Participant6/conation.txt', 'Data/Participant7/conation.txt', 'Data/Participant8/conation.txt', 'Data/Participant9/conation.txt']\n"
     ]
    }
   ],
   "source": [
    "filepath = 'Data/'\n",
    "fileConation = 'conation.txt'\n",
    "\n",
    "#find folder of each participant\n",
    "participants = os.listdir('Data/') \n",
    "print(participants)\n",
    "\n",
    "#find a specific level file inside the participant folder\n",
    "conationFiles = []\n",
    "\n",
    "for p in participants:\n",
    "    conationFiles.append(filepath+p+'/'+fileConation)\n",
    "print(conationFiles)\n",
    "\n",
    "#combine different participant's same level data\n",
    "data = []\n",
    "\n",
    "for f in conationFiles:\n",
    "    data.append(pd.read_csv(f))\n",
    "\n",
    "\n",
    "conation = pd.concat((data), ignore_index=True)"
   ]
  },
  {
   "cell_type": "code",
   "execution_count": 13,
   "metadata": {},
   "outputs": [
    {
     "data": {
      "text/plain": [
       "['conation.txt',\n",
       " 'Level01_images.csv',\n",
       " 'Level02_images.csv',\n",
       " 'Level03_images.csv',\n",
       " 'Level04_images.csv',\n",
       " 'Level05_images.csv',\n",
       " 'Level06_images.csv',\n",
       " 'Level07_images.csv',\n",
       " 'Level08_images.csv',\n",
       " 'Level09_images.csv',\n",
       " 'Level10_images.csv',\n",
       " 'Level11_images.csv',\n",
       " 'Level12_images.csv',\n",
       " 'Level13_images.csv',\n",
       " 'Level14_images.csv',\n",
       " 'Level15_images.csv',\n",
       " 'Level16_images.csv',\n",
       " 'Level17_images.csv',\n",
       " 'Level18_images.csv',\n",
       " 'Level9999_images.csv',\n",
       " 'whyConation.txt']"
      ]
     },
     "execution_count": 13,
     "metadata": {},
     "output_type": "execute_result"
    }
   ],
   "source": [
    "levels = os.listdir('Data/Participant1/')\n",
    "\n",
    "levels"
   ]
  },
  {
   "cell_type": "markdown",
   "metadata": {},
   "source": [
    "# Functions to add labels to graphs"
   ]
  },
  {
   "cell_type": "code",
   "execution_count": 14,
   "metadata": {},
   "outputs": [],
   "source": [
    "def add_value_labels(ax, spacing=5):\n",
    "    \"\"\"Add labels to the end of each bar in a bar chart.\n",
    "\n",
    "    Arguments:\n",
    "        ax (matplotlib.axes.Axes): The matplotlib object containing the axes\n",
    "            of the plot to annotate.\n",
    "        spacing (int): The distance between the labels and the bars.\n",
    "    \"\"\"\n",
    "\n",
    "    # For each bar: Place a label\n",
    "    for rect in ax.patches:\n",
    "        # Get X and Y placement of label from rect.\n",
    "        y_value = rect.get_height()\n",
    "        x_value = rect.get_x() + rect.get_width() / 2\n",
    "\n",
    "        # Number of points between bar and label. Change to your liking.\n",
    "        space = spacing\n",
    "        # Vertical alignment for positive values\n",
    "        va = 'bottom'\n",
    "\n",
    "        # If value of bar is negative: Place label below bar\n",
    "        if y_value < 0:\n",
    "            # Invert space to place label below\n",
    "            space *= -1\n",
    "            # Vertically align label at top\n",
    "            va = 'top'\n",
    "\n",
    "        # Use Y value as label and format number with 2 decimal places\n",
    "        label = \"{:.3f}\".format(y_value)\n",
    "\n",
    "        # Create annotation\n",
    "        ax.annotate(\n",
    "            label,                      # Use `label` as label\n",
    "            (x_value, y_value),         # Place label at end of the bar\n",
    "            xytext=(0, space),          # Vertically shift label by `space`\n",
    "            textcoords=\"offset points\", # Interpret `xytext` as offset in points\n",
    "            ha='center',                # Horizontally center label\n",
    "            va=va)                      # Vertically align label differently for\n",
    "                                        # positive and negative values."
   ]
  },
  {
   "cell_type": "code",
   "execution_count": 15,
   "metadata": {},
   "outputs": [],
   "source": [
    "def add_value_labels_int(ax, spacing=5):\n",
    "\n",
    "    # For each bar: Place a label\n",
    "    for rect in ax.patches:\n",
    "        # Get X and Y placement of label from rect.\n",
    "        y_value = rect.get_height()\n",
    "        x_value = rect.get_x() + rect.get_width() / 2\n",
    "\n",
    "        # Number of points between bar and label. Change to your liking.\n",
    "        space = spacing\n",
    "        # Vertical alignment for positive values\n",
    "        va = 'bottom'\n",
    "\n",
    "        # If value of bar is negative: Place label below bar\n",
    "        if y_value < 0:\n",
    "            # Invert space to place label below\n",
    "            space *= -1\n",
    "            # Vertically align label at top\n",
    "            va = 'top'\n",
    "\n",
    "        # Use Y value as label and format number with 2 decimal places\n",
    "        label = \"{:.0f}\".format(y_value)\n",
    "\n",
    "        # Create annotation\n",
    "        ax.annotate(\n",
    "            label,                      # Use `label` as label\n",
    "            (x_value, y_value),         # Place label at end of the bar\n",
    "            xytext=(0, space),          # Vertically shift label by `space`\n",
    "            textcoords=\"offset points\", # Interpret `xytext` as offset in points\n",
    "            ha='center',                # Horizontally center label\n",
    "            va=va)                      # Vertically align label differently for\n",
    "                                        # positive and negative values."
   ]
  },
  {
   "cell_type": "code",
   "execution_count": 16,
   "metadata": {},
   "outputs": [
    {
     "name": "stdout",
     "output_type": "stream",
     "text": [
      "0       -0.161933\n",
      "1       -0.144700\n",
      "2       -0.100124\n",
      "3       -0.152162\n",
      "4       -0.106743\n",
      "           ...   \n",
      "10645    0.046869\n",
      "10646   -0.009665\n",
      "10647   -0.026396\n",
      "10648    0.018554\n",
      "10649   -0.020623\n",
      "Name: Valence, Length: 10650, dtype: float64\n"
     ]
    }
   ],
   "source": [
    "print(level1.iloc[:, 0])"
   ]
  },
  {
   "cell_type": "code",
   "execution_count": 17,
   "metadata": {},
   "outputs": [
    {
     "data": {
      "image/png": "[encoded data removed]",
      "text/plain": [
       "<Figure size 1440x720 with 1 Axes>"
      ]
     },
     "metadata": {},
     "output_type": "display_data"
    }
   ],
   "source": [
    "avplot = pd.DataFrame([\n",
    "        [\"L1\", level1.iloc[:, 0].mean(), level1.iloc[:, 1].mean()],\n",
    "        [\"L2\", level2.iloc[:, 0].mean(), level2.iloc[:, 1].mean()],\n",
    "        [\"L3\", level3.iloc[:, 0].mean(), level3.iloc[:, 1].mean()],\n",
    "        [\"L4\", level4.iloc[:, 0].mean(), level4.iloc[:, 1].mean()],\n",
    "        [\"L5\", level5.iloc[:, 0].mean(), level5.iloc[:, 1].mean()],\n",
    "        [\"L6\", level6.iloc[:, 0].mean(), level6.iloc[:, 1].mean()],\n",
    "        [\"L7\", level7.iloc[:, 0].mean(), level7.iloc[:, 1].mean()],\n",
    "        [\"L8\", level8.iloc[:, 0].mean(), level8.iloc[:, 1].mean()],\n",
    "        [\"L9\", level9.iloc[:, 0].mean(), level9.iloc[:, 1].mean()],\n",
    "        [\"L10\", level10.iloc[:, 0].mean(), level10.iloc[:, 1].mean()],\n",
    "        [\"L11\", level11.iloc[:, 0].mean(), level11.iloc[:, 1].mean()],\n",
    "        [\"L12\", level12.iloc[:, 0].mean(), level12.iloc[:, 1].mean()],\n",
    "        [\"L13\", level13.iloc[:, 0].mean(), level13.iloc[:, 1].mean()],\n",
    "        [\"L14\", level14.iloc[:, 0].mean(), level14.iloc[:, 1].mean()],\n",
    "        [\"L15\", level15.iloc[:, 0].mean(), level15.iloc[:, 1].mean()],\n",
    "        [\"L16\", level16.iloc[:, 0].mean(), level16.iloc[:, 1].mean()],\n",
    "        [\"L17\", level17.iloc[:, 0].mean(), level17.iloc[:, 1].mean()],\n",
    "        [\"L18\", level18.iloc[:, 0].mean(), level18.iloc[:, 1].mean()],\n",
    "        [\"L19\", level19.iloc[:, 0].mean(), level19.iloc[:, 1].mean()],\n",
    "        ],  \n",
    "        columns = [\"Levels\", \"Valence\", \"Aroiusal\"])\n",
    "\n",
    "fig, ax1 = plt.subplots(figsize=(20, 10))\n",
    "tidy = avplot.melt(id_vars='Levels').rename(columns=str.title)\n",
    "sns.barplot(x='Levels', y='Value', hue='Variable', data=tidy, ax=ax1)\n",
    "sns.despine(fig)\n",
    "ax1.yaxis.grid(True)\n",
    "ax1.set_axisbelow(True)\n",
    "plt.ylim(bottom = -1,top = 1)\n",
    "add_value_labels(ax1)"
   ]
  }
 ],
 "metadata": {
  "interpreter": {
   "hash": "37b255bb5dc0d995b91bd1b934b878e610a26475f52eafaf29fdb395fb105534"
  },
  "kernelspec": {
   "display_name": "Python 3.8.12 64-bit ('base': conda)",
   "language": "python",
   "name": "python3"
  },
  "language_info": {
   "codemirror_mode": {
    "name": "ipython",
    "version": 3
   },
   "file_extension": ".py",
   "mimetype": "text/x-python",
   "name": "python",
   "nbconvert_exporter": "python",
   "pygments_lexer": "ipython3",
   "version": "3.8.12"
  },
  "orig_nbformat": 4
 },
 "nbformat": 4,
 "nbformat_minor": 2
}
